{
 "cells": [
  {
   "cell_type": "code",
   "execution_count": 12,
   "id": "b70799a3",
   "metadata": {},
   "outputs": [],
   "source": [
    "# Q1, Create a vehicle class with an init method having instance variables as name_of_vehicle, max_speed\n",
    "# and average_of_vehicle.\n",
    "\n",
    "class vehicle:\n",
    "    \n",
    "    def __init__(self, name_of_vehicle, speed, average_of_vehicle):\n",
    "        self.name_of_vehicle = name_of_vehicle\n",
    "        self.speed = speed\n",
    "        self.average_of_vehicle = average_of_vehicle\n",
    "    \n",
    "    def return_vehcile_details(self):\n",
    "        return self.name_of_vehicle,self.speed,self.average_of_vehicle\n",
    "   \n",
    "\n"
   ]
  },
  {
   "cell_type": "code",
   "execution_count": 13,
   "id": "2cfd9832",
   "metadata": {},
   "outputs": [],
   "source": [
    "obj_vehicle = vehicle(\"Car\",180,12)"
   ]
  },
  {
   "cell_type": "code",
   "execution_count": 14,
   "id": "e334e42e",
   "metadata": {},
   "outputs": [
    {
     "data": {
      "text/plain": [
       "('Car', 180, 12)"
      ]
     },
     "execution_count": 14,
     "metadata": {},
     "output_type": "execute_result"
    }
   ],
   "source": [
    "obj_vehicle.return_vehcile_details()"
   ]
  },
  {
   "cell_type": "code",
   "execution_count": 15,
   "id": "adb5cae3",
   "metadata": {},
   "outputs": [
    {
     "data": {
      "text/plain": [
       "180"
      ]
     },
     "execution_count": 15,
     "metadata": {},
     "output_type": "execute_result"
    }
   ],
   "source": [
    "obj_vehicle.speed"
   ]
  },
  {
   "cell_type": "code",
   "execution_count": 16,
   "id": "ae0adaa7",
   "metadata": {},
   "outputs": [],
   "source": [
    "# Q2. Create a child class car from the vehicle class created in Que 1, which will inherit the vehicle class.\n",
    "# Create a method named seating_capacity which takes capacity as an argument and returns the name of\n",
    "# the vehicle and its seating capacity.\n",
    "\n",
    "class car(vehicle):\n",
    "    \n",
    "    def seating_capacity(self,capacity):\n",
    "        self.capacity = capacity\n",
    "        \n",
    "    def return_details(self):\n",
    "        return self.name_of_vehicle,self.capacity"
   ]
  },
  {
   "cell_type": "code",
   "execution_count": 17,
   "id": "f9a42202",
   "metadata": {},
   "outputs": [],
   "source": [
    "obj_car = car(\"SUV\",200,8)"
   ]
  },
  {
   "cell_type": "code",
   "execution_count": 18,
   "id": "e6c4d439",
   "metadata": {},
   "outputs": [],
   "source": [
    "obj_car.seating_capacity(4)"
   ]
  },
  {
   "cell_type": "code",
   "execution_count": 19,
   "id": "3c4fb18d",
   "metadata": {},
   "outputs": [
    {
     "data": {
      "text/plain": [
       "'SUV'"
      ]
     },
     "execution_count": 19,
     "metadata": {},
     "output_type": "execute_result"
    }
   ],
   "source": [
    "obj_car.name_of_vehicle"
   ]
  },
  {
   "cell_type": "code",
   "execution_count": 20,
   "id": "b093d4f4",
   "metadata": {},
   "outputs": [
    {
     "data": {
      "text/plain": [
       "4"
      ]
     },
     "execution_count": 20,
     "metadata": {},
     "output_type": "execute_result"
    }
   ],
   "source": [
    "obj_car.capacity"
   ]
  },
  {
   "cell_type": "code",
   "execution_count": 21,
   "id": "3ec1b6ea",
   "metadata": {},
   "outputs": [],
   "source": [
    "# Q3. What is multiple inheritance? Write a python code to demonstrate multiple inheritance.\n",
    "\n",
    "# When the class 1 and class 2 both can be given to the class 3 together. it is called multiple inheritance. \n",
    "\n",
    "class class1:\n",
    "    \n",
    "    def class_test1(self):\n",
    "        return \"this is class 1\""
   ]
  },
  {
   "cell_type": "code",
   "execution_count": 22,
   "id": "ee23d2f9",
   "metadata": {},
   "outputs": [],
   "source": [
    "class class2:\n",
    "    \n",
    "    def class_test2(self):\n",
    "        return \"this is class 2\""
   ]
  },
  {
   "cell_type": "code",
   "execution_count": 23,
   "id": "ca01dc04",
   "metadata": {},
   "outputs": [],
   "source": [
    "class class3(class1, class2):\n",
    "        pass"
   ]
  },
  {
   "cell_type": "code",
   "execution_count": 24,
   "id": "f855be11",
   "metadata": {},
   "outputs": [],
   "source": [
    "class_obj = class3()"
   ]
  },
  {
   "cell_type": "code",
   "execution_count": 25,
   "id": "e7b99e39",
   "metadata": {},
   "outputs": [
    {
     "data": {
      "text/plain": [
       "'this is class 1'"
      ]
     },
     "execution_count": 25,
     "metadata": {},
     "output_type": "execute_result"
    }
   ],
   "source": [
    "class_obj.class_test1()"
   ]
  },
  {
   "cell_type": "code",
   "execution_count": 26,
   "id": "b21eb2f6",
   "metadata": {},
   "outputs": [
    {
     "data": {
      "text/plain": [
       "'this is class 2'"
      ]
     },
     "execution_count": 26,
     "metadata": {},
     "output_type": "execute_result"
    }
   ],
   "source": [
    "class_obj.class_test2()"
   ]
  },
  {
   "cell_type": "code",
   "execution_count": 27,
   "id": "4611a7e8",
   "metadata": {},
   "outputs": [],
   "source": [
    "# Q4. What are getter and setter in python? Create a class and create a getter and a setter method in this\n",
    "# class.\n",
    "\n",
    "# Getter - helps us to show the available value \n",
    "# Setter - helps us to set the value of the variable. \n",
    "\n",
    "class inventory:\n",
    "    \n",
    "    def __init__(self,number = 0):\n",
    "        self.__number = number\n",
    "    \n",
    "    def set_invetory(self,set_stock):\n",
    "        self.__number = set_stock\n",
    "    \n",
    "    def add_stock(self, add):\n",
    "        self.__number = self.__number + add\n",
    "    \n",
    "    def sold_stock(self, sold):\n",
    "        \n",
    "        if self.__number >= sold:\n",
    "            self.__number = self.__number - sold\n",
    "            return True\n",
    "        \n",
    "        else:\n",
    "            return False\n",
    "    \n",
    "    def get_total(self):\n",
    "        return self.__number\n",
    "            \n",
    "        \n"
   ]
  },
  {
   "cell_type": "code",
   "execution_count": 28,
   "id": "7872e869",
   "metadata": {},
   "outputs": [],
   "source": [
    "obj_inventory = inventory(1000)"
   ]
  },
  {
   "cell_type": "code",
   "execution_count": 29,
   "id": "c8ff2dbf",
   "metadata": {},
   "outputs": [
    {
     "data": {
      "text/plain": [
       "1000"
      ]
     },
     "execution_count": 29,
     "metadata": {},
     "output_type": "execute_result"
    }
   ],
   "source": [
    "obj_inventory.get_total()"
   ]
  },
  {
   "cell_type": "code",
   "execution_count": 30,
   "id": "3a879e1f",
   "metadata": {},
   "outputs": [],
   "source": [
    "obj_inventory.add_stock(200)"
   ]
  },
  {
   "cell_type": "code",
   "execution_count": 31,
   "id": "bed8be5a",
   "metadata": {},
   "outputs": [
    {
     "data": {
      "text/plain": [
       "1200"
      ]
     },
     "execution_count": 31,
     "metadata": {},
     "output_type": "execute_result"
    }
   ],
   "source": [
    "obj_inventory.get_total()"
   ]
  },
  {
   "cell_type": "code",
   "execution_count": 32,
   "id": "d980ee2b",
   "metadata": {},
   "outputs": [
    {
     "data": {
      "text/plain": [
       "True"
      ]
     },
     "execution_count": 32,
     "metadata": {},
     "output_type": "execute_result"
    }
   ],
   "source": [
    "obj_inventory.sold_stock(300)"
   ]
  },
  {
   "cell_type": "code",
   "execution_count": 33,
   "id": "022f9ad8",
   "metadata": {},
   "outputs": [
    {
     "data": {
      "text/plain": [
       "900"
      ]
     },
     "execution_count": 33,
     "metadata": {},
     "output_type": "execute_result"
    }
   ],
   "source": [
    "obj_inventory.get_total()"
   ]
  },
  {
   "cell_type": "code",
   "execution_count": 34,
   "id": "8eb2b734",
   "metadata": {},
   "outputs": [],
   "source": [
    "obj_inventory.set_invetory(2000)"
   ]
  },
  {
   "cell_type": "code",
   "execution_count": 35,
   "id": "010b2618",
   "metadata": {},
   "outputs": [
    {
     "data": {
      "text/plain": [
       "2000"
      ]
     },
     "execution_count": 35,
     "metadata": {},
     "output_type": "execute_result"
    }
   ],
   "source": [
    "obj_inventory.get_total()"
   ]
  },
  {
   "cell_type": "code",
   "execution_count": 36,
   "id": "fda2a6b4",
   "metadata": {},
   "outputs": [
    {
     "data": {
      "text/plain": [
       "True"
      ]
     },
     "execution_count": 36,
     "metadata": {},
     "output_type": "execute_result"
    }
   ],
   "source": [
    "obj_inventory.sold_stock(1700)"
   ]
  },
  {
   "cell_type": "code",
   "execution_count": 37,
   "id": "1fc660db",
   "metadata": {},
   "outputs": [],
   "source": [
    "# Q5.What is method overriding in python? Write a python code to demonstrate method overriding.\n",
    "\n",
    "class x:\n",
    "    \n",
    "    def method(self):\n",
    "        return \" this is class x\"\n",
    "    \n",
    "class y(x):\n",
    "    \n",
    "    def method(self):\n",
    "        return\"this is class y\"\n",
    "    "
   ]
  },
  {
   "cell_type": "code",
   "execution_count": 38,
   "id": "b8f81ea9",
   "metadata": {},
   "outputs": [
    {
     "data": {
      "text/plain": [
       "'this is class y'"
      ]
     },
     "execution_count": 38,
     "metadata": {},
     "output_type": "execute_result"
    }
   ],
   "source": [
    "y1 = y()\n",
    "y1.method()"
   ]
  },
  {
   "cell_type": "code",
   "execution_count": null,
   "id": "ee20defa",
   "metadata": {},
   "outputs": [],
   "source": []
  }
 ],
 "metadata": {
  "kernelspec": {
   "display_name": "Python 3 (ipykernel)",
   "language": "python",
   "name": "python3"
  },
  "language_info": {
   "codemirror_mode": {
    "name": "ipython",
    "version": 3
   },
   "file_extension": ".py",
   "mimetype": "text/x-python",
   "name": "python",
   "nbconvert_exporter": "python",
   "pygments_lexer": "ipython3",
   "version": "3.9.12"
  }
 },
 "nbformat": 4,
 "nbformat_minor": 5
}
