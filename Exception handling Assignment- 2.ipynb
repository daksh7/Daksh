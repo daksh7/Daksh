{
 "cells": [
  {
   "cell_type": "code",
   "execution_count": 1,
   "id": "17f591e4",
   "metadata": {},
   "outputs": [],
   "source": [
    "# Q1. Explain why we have to use the Exception class while creating a Custom Exception.\n",
    "\n",
    "# The reason is that when we create custom exception class we use Exception which is an buit-in superclass, to inherit the property of exception in custom exception class. "
   ]
  },
  {
   "cell_type": "code",
   "execution_count": 3,
   "id": "aadb907f",
   "metadata": {},
   "outputs": [],
   "source": [
    "# Q2. Write a python program to print Python Exception Hierarchy."
   ]
  },
  {
   "cell_type": "code",
   "execution_count": 14,
   "id": "406b4743",
   "metadata": {},
   "outputs": [],
   "source": [
    "# Q3. What errors are defined in the ArithmeticError class? Explain any two with an example.\n",
    "\n",
    "# The errors defined in arithmetic errors are Zerodivision error, overflow error, floating point error\n",
    "\n",
    "# ZeroDivisionerror example\n",
    "import logging\n",
    "logging.basicConfig(filename=\"keyerror.log\",level=logging.INFO)\n",
    "\n",
    "try: \n",
    "    logging.info(\"We are trying to show Zero divison error exception\")\n",
    "    1/0\n",
    "except ZeroDivisionError as e:\n",
    "    logging.info(\"Zero division Error msg: {} \".format(e))"
   ]
  },
  {
   "cell_type": "code",
   "execution_count": 13,
   "id": "737af873",
   "metadata": {},
   "outputs": [],
   "source": [
    "# Overflow error\n",
    "import math\n",
    "import logging\n",
    "\n",
    "logging.basicConfig(filename=\"Overflowerror.log\",level=logging.INFO)\n",
    "\n",
    "try:\n",
    "    math.pow(2,100000)\n",
    "except OverflowError as e:\n",
    "    logging.info(\"Over flow Error msg: {}\".format(e))"
   ]
  },
  {
   "cell_type": "code",
   "execution_count": 12,
   "id": "06609a5d",
   "metadata": {},
   "outputs": [],
   "source": [
    "# Q4. Why LookupError class is used? Explain with an example KeyError and IndexError.\n",
    "\n",
    "# Lookup error - class is used to handle the exceptions when key and index values are not found in the lists, dictionary & tuples. \n",
    "\n",
    "# Key error\n",
    "import logging\n",
    "logging.basicConfig(filename=\"keyerror.log\",level=logging.INFO)\n",
    "\n",
    "diction ={\"a\":1,\n",
    "          \"b\":2} \n",
    "logging.info(\"We have created a dictionary\")\n",
    "\n",
    "try:    \n",
    "    logging.info(\"We are trying to print the value of a key from the disctionary.\")\n",
    "    x = diction[\"c\"]\n",
    "    print(x)\n",
    "except LookupError as e:\n",
    "    logging.info(\"We are trying to show the Key error exception : {}\".format(e))\n"
   ]
  },
  {
   "cell_type": "code",
   "execution_count": 11,
   "id": "d64e8b67",
   "metadata": {},
   "outputs": [],
   "source": [
    "# index error\n",
    "import logging\n",
    "logging.basicConfig(filename=\"indexerror.log\",level=logging.INFO)\n",
    "\n",
    "list1= [1,2,4,5]\n",
    "logging.info(\"We have created a list1\")\n",
    "\n",
    "try:\n",
    "    logging.info(\"We are trying to print the value of index from the list\")\n",
    "    y = list1[4]\n",
    "    print(y)\n",
    "except LookupError as e:\n",
    "    logging.info(\"I am trying to show the example of Index Error: {} \".format(e))"
   ]
  },
  {
   "cell_type": "code",
   "execution_count": 5,
   "id": "b52695af",
   "metadata": {},
   "outputs": [
    {
     "name": "stdout",
     "output_type": "stream",
     "text": [
      "Error:  No module named 'loging'\n"
     ]
    }
   ],
   "source": [
    "# Q5. Explain ImportError. What is ModuleNotFoundError?\n",
    "\n",
    "# Import error is base class of modulenotfounderror. It handles the exceptions when the module we are importing is not available or we misspelled the name of the error\n",
    "\n",
    "# Module not found error,It inherits the properties of the base impoterror occurs when name of the module is not correct. \n",
    "\n",
    "try:\n",
    "    import loging\n",
    "    logging.basicConfig(filename = \"newerror.log\",level = logging.INFO)\n",
    "    y = list1[4]\n",
    "    print(y)\n",
    "    \n",
    "except ModuleNotFoundError as e:\n",
    "    print(\"Error: \",e)"
   ]
  },
  {
   "cell_type": "code",
   "execution_count": 9,
   "id": "ab6549ec",
   "metadata": {},
   "outputs": [],
   "source": [
    "# Q6. List down some best practices for exception handling in python.\n",
    "\n",
    "# We should always use the generic exception at the end not before teh specific exceptions. \n",
    "\n",
    "# We should always use specific exceptions not the superclass or generic. \n",
    "\n",
    "# We should always log our errors.\n",
    "\n",
    "# We should always print meaningful errors. "
   ]
  }
 ],
 "metadata": {
  "kernelspec": {
   "display_name": "Python 3 (ipykernel)",
   "language": "python",
   "name": "python3"
  },
  "language_info": {
   "codemirror_mode": {
    "name": "ipython",
    "version": 3
   },
   "file_extension": ".py",
   "mimetype": "text/x-python",
   "name": "python",
   "nbconvert_exporter": "python",
   "pygments_lexer": "ipython3",
   "version": "3.9.12"
  }
 },
 "nbformat": 4,
 "nbformat_minor": 5
}
