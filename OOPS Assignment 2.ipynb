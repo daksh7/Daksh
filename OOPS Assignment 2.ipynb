{
 "cells": [
  {
   "cell_type": "code",
   "execution_count": 6,
   "id": "65c022bc",
   "metadata": {},
   "outputs": [],
   "source": [
    "# Q1. What is Abstraction in OOps? Explain with an example.\n",
    "\n",
    "# Abstraction is used create a skeleton or blueprint of the code, sso that we can use methods in different classes. \n",
    "\n",
    "import abc\n",
    "\n",
    "class abstract:\n",
    "    \n",
    "    @abc.abstractclassmethod\n",
    "    def car(self):\n",
    "        pass\n",
    "    \n",
    "    @abc.abstractclassmethod    \n",
    "    def car_details(self):\n",
    "        pass\n"
   ]
  },
  {
   "cell_type": "code",
   "execution_count": 8,
   "id": "cc0cd6d6",
   "metadata": {},
   "outputs": [],
   "source": [
    "class vehicle_info(abstract):\n",
    "            \n",
    "    def car(self):\n",
    "        print(\"Its a vehicle - car\")\n",
    "    \n",
    "    def car_details(self):\n",
    "        print(\"its a SUV\")\n",
    "    "
   ]
  },
  {
   "cell_type": "code",
   "execution_count": 9,
   "id": "1cd2f565",
   "metadata": {},
   "outputs": [],
   "source": [
    "obj_vehicle_info = vehicle_info()"
   ]
  },
  {
   "cell_type": "code",
   "execution_count": 14,
   "id": "a5cdb9b0",
   "metadata": {},
   "outputs": [
    {
     "name": "stdout",
     "output_type": "stream",
     "text": [
      "its a SUV\n"
     ]
    }
   ],
   "source": [
    "obj_vehicle_info.car_details()"
   ]
  },
  {
   "cell_type": "code",
   "execution_count": 16,
   "id": "448bf4e9",
   "metadata": {},
   "outputs": [
    {
     "name": "stdout",
     "output_type": "stream",
     "text": [
      "Its a vehicle - car\n"
     ]
    }
   ],
   "source": [
    "obj_vehicle_info.car()"
   ]
  },
  {
   "cell_type": "code",
   "execution_count": 27,
   "id": "2dc030a9",
   "metadata": {},
   "outputs": [],
   "source": [
    "# Q2. Differentiate between Abstraction and Encapsulation. Explain with an example.\n",
    "\n",
    "# In abstraction we make the skeleton of the code, means we have defined the methods which can be used in different functions,  while in encapsulation we can make the varibales private in our class structure, in which user can't do any changes or deny the public access of the varaible. \n",
    "\n",
    "# Encapsulation\n",
    "\n",
    "class school:\n",
    "    \n",
    "    def __init__(self,student_name, student_email, student_marks):\n",
    "        self.__student_name = student_name\n",
    "        self.__student_email = student_email\n",
    "        self.__student_marks = student_marks\n",
    "        \n",
    "    def set_student_details(self,student_marks):\n",
    "        self.__student_marks = student_marks\n",
    "        \n",
    "    \n",
    "    def get_student_details(self):\n",
    "        return self.__student_marks\n",
    "    \n",
    "    "
   ]
  },
  {
   "cell_type": "code",
   "execution_count": 28,
   "id": "373328f4",
   "metadata": {},
   "outputs": [],
   "source": [
    "obj_school = school(\"Daksh\",\"Daksh@email\",85)"
   ]
  },
  {
   "cell_type": "code",
   "execution_count": 31,
   "id": "1355054a",
   "metadata": {},
   "outputs": [
    {
     "data": {
      "text/plain": [
       "85"
      ]
     },
     "execution_count": 31,
     "metadata": {},
     "output_type": "execute_result"
    }
   ],
   "source": [
    "obj_school._school__student_marks"
   ]
  },
  {
   "cell_type": "code",
   "execution_count": 32,
   "id": "e3a09184",
   "metadata": {},
   "outputs": [
    {
     "data": {
      "text/plain": [
       "85"
      ]
     },
     "execution_count": 32,
     "metadata": {},
     "output_type": "execute_result"
    }
   ],
   "source": [
    "obj_school.get_student_details()"
   ]
  },
  {
   "cell_type": "code",
   "execution_count": 33,
   "id": "058d1764",
   "metadata": {},
   "outputs": [],
   "source": [
    "obj_school.set_student_details(80)"
   ]
  },
  {
   "cell_type": "code",
   "execution_count": 34,
   "id": "9f00bf84",
   "metadata": {},
   "outputs": [
    {
     "data": {
      "text/plain": [
       "80"
      ]
     },
     "execution_count": 34,
     "metadata": {},
     "output_type": "execute_result"
    }
   ],
   "source": [
    "obj_school.get_student_details()"
   ]
  },
  {
   "cell_type": "code",
   "execution_count": null,
   "id": "d7f377ac",
   "metadata": {},
   "outputs": [],
   "source": [
    "# Q3. What is abc module in python? Why is it used?\n",
    "# abc - abc module is used to achieve the concept of abstract classes in python. \n",
    "\n"
   ]
  },
  {
   "cell_type": "code",
   "execution_count": 35,
   "id": "b4ef76ff",
   "metadata": {},
   "outputs": [],
   "source": [
    "# Q4. How can we achieve data abstraction?\n",
    "# We can achieve data abstraction by creating abstract class and then inheriting these into other classes to access them. "
   ]
  },
  {
   "cell_type": "code",
   "execution_count": null,
   "id": "e3a855a1",
   "metadata": {},
   "outputs": [],
   "source": [
    "# Q5. Can we create an instance of an abstract class? Explain your answer.\n",
    "\n",
    "# No, we cannot create an instance of an abstract class. As abstract class is used to give the structre of the code, we can create instance for the subclass to access the methods of abstract class."
   ]
  }
 ],
 "metadata": {
  "kernelspec": {
   "display_name": "Python 3 (ipykernel)",
   "language": "python",
   "name": "python3"
  },
  "language_info": {
   "codemirror_mode": {
    "name": "ipython",
    "version": 3
   },
   "file_extension": ".py",
   "mimetype": "text/x-python",
   "name": "python",
   "nbconvert_exporter": "python",
   "pygments_lexer": "ipython3",
   "version": "3.9.12"
  }
 },
 "nbformat": 4,
 "nbformat_minor": 5
}
