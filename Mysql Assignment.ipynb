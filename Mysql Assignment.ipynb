{
 "cells": [
  {
   "cell_type": "code",
   "execution_count": 1,
   "id": "5251c50a",
   "metadata": {},
   "outputs": [],
   "source": [
    "# Q1. What is a database? Differentiate between SQL and NoSQL databases.\n",
    "\n",
    "# Database is the collection of data that is stored in the structured and unstructured format which helps in storing, ingesting & organizing the data to make it useful. \n",
    "\n",
    "# Difference between sql & nosql\n",
    "# Sql - IN sql data is stored in structured format, means rows and columns in the table. \n",
    "\n",
    "# Nosql - In nosql databases stores the data in unstructtured format, which means data is not stored in tabular fomart. \n"
   ]
  },
  {
   "cell_type": "code",
   "execution_count": 33,
   "id": "a8b2670f",
   "metadata": {
    "scrolled": false
   },
   "outputs": [
    {
     "name": "stdout",
     "output_type": "stream",
     "text": [
      "<mysql.connector.connection_cext.CMySQLConnection object at 0x000001F489EABB20>\n"
     ]
    }
   ],
   "source": [
    "# Q2. What is DDL? Explain why CREATE, DROP, ALTER, and TRUNCATE are used with an example.\n",
    "\n",
    "# DDL-  Data definition language \n",
    "\n",
    "# Create - is used create database and tables which include rows and columns\n",
    "# Drop is used to drop the complete table or database\n",
    "# Alter is used to add more columns to the table in the database. \n",
    "# Truncate is used to delete all the records of the table, it will not delete the entire table only its records. \n",
    "\n",
    "import mysql.connector\n",
    "mydb = mysql.connector.connect(\n",
    "  host=\"localhost\",\n",
    "  user=\"root\",\n",
    "  password=\"password\"\n",
    ")\n",
    "print(mydb)\n",
    "mycursor = mydb.cursor()\n",
    "mycursor.execute(\"CREATE DATABASE if not exists test2\")\n",
    "mycursor.execute(\"Create table if not exists test2.test_table(C1 INT, C2 Varchar (50), c3 INT)\")\n",
    "mycursor.execute(\"Alter table test2.test_table add C4 INT\")\n",
    "#mycursor.execute(\"Truncate table test2.test_table\")\n",
    "#mycursor.execute(\"Drop table test2.test_table\")\n",
    "#mycursor.execute(\"Drop database test2\")\n",
    "mydb.close()\n",
    "                "
   ]
  },
  {
   "cell_type": "code",
   "execution_count": 19,
   "id": "a090a622",
   "metadata": {},
   "outputs": [
    {
     "name": "stdout",
     "output_type": "stream",
     "text": [
      "<mysql.connector.connection_cext.CMySQLConnection object at 0x000001F488FE25B0>\n",
      "(1, 'Daksh', 44, 123)\n",
      "(2, 'Rahul', 55, 1000)\n"
     ]
    }
   ],
   "source": [
    "# Q3. What is DML? Explain INSERT, UPDATE, and DELETE with an example.\n",
    "\n",
    "# DML - Data manipulation language\n",
    "\n",
    "# Insert - used to insert values in the table\n",
    "\n",
    "import mysql.connector as sql\n",
    "mydb = mysql.connector.connect(\n",
    "  host=\"localhost\",\n",
    "  user=\"root\",\n",
    "  password=\"password\"\n",
    ")\n",
    "print(mydb)\n",
    "mycursor = mydb.cursor()\n",
    "mycursor.execute(\"Insert into test2.test_table(c1,c2,c3,c4) values(1,'Daksh',44,123)\")\n",
    "mycursor.execute(\"Insert into test2.test_table(c1,c2,c3,c4) values(2,'Rahul',55,1000)\")\n",
    "mydb.commit()\n",
    "mycursor.execute(\"Select * from test2.test_table\")\n",
    "for i in mycursor.fetchall():\n",
    "    print(i)\n",
    "\n",
    "mydb.close()\n",
    "\n"
   ]
  },
  {
   "cell_type": "code",
   "execution_count": 20,
   "id": "100b4ec8",
   "metadata": {},
   "outputs": [
    {
     "name": "stdout",
     "output_type": "stream",
     "text": [
      "<mysql.connector.connection_cext.CMySQLConnection object at 0x000001F488FF0B50>\n",
      "(1, 'Sethi', 44, 123)\n",
      "(2, 'Rahul', 55, 1000)\n"
     ]
    }
   ],
   "source": [
    "## update - used to update or modify values in the table\n",
    "\n",
    "import mysql.connector as sql\n",
    "mydb = mysql.connector.connect(\n",
    "  host=\"localhost\",\n",
    "  user=\"root\",\n",
    "  password=\"password\"\n",
    ")\n",
    "print(mydb)\n",
    "mycursor = mydb.cursor()\n",
    "mycursor.execute(\"Update test2.test_table SET c2 = 'Sethi' WHERE c1 = 1\")\n",
    "mydb.commit()\n",
    "mycursor.execute(\"Select * from test2.test_table\")\n",
    "for i in mycursor.fetchall():\n",
    "    print(i)\n",
    "\n",
    "mydb.close()\n",
    "\n"
   ]
  },
  {
   "cell_type": "code",
   "execution_count": 22,
   "id": "046cd188",
   "metadata": {},
   "outputs": [
    {
     "name": "stdout",
     "output_type": "stream",
     "text": [
      "<mysql.connector.connection_cext.CMySQLConnection object at 0x000001F488FF0310>\n",
      "(1, 'Sethi', 44, 123)\n"
     ]
    }
   ],
   "source": [
    "## Delete - used to delete rows from the table\n",
    "\n",
    "import mysql.connector as sql\n",
    "mydb = mysql.connector.connect(\n",
    "  host=\"localhost\",\n",
    "  user=\"root\",\n",
    "  password=\"password\"\n",
    ")\n",
    "print(mydb)\n",
    "mycursor = mydb.cursor()\n",
    "mycursor.execute(\"Delete from test2.test_table where c2 = 'Rahul'\")\n",
    "mydb.commit()\n",
    "mycursor.execute(\"Select * from test2.test_table\")\n",
    "for i in mycursor.fetchall():\n",
    "    print(i)\n",
    "\n",
    "mydb.close()"
   ]
  },
  {
   "cell_type": "code",
   "execution_count": 24,
   "id": "95985d50",
   "metadata": {},
   "outputs": [
    {
     "name": "stdout",
     "output_type": "stream",
     "text": [
      "<mysql.connector.connection_cext.CMySQLConnection object at 0x000001F488FF0F70>\n",
      "(1, 'Sethi', 44, 123)\n",
      "(3, 'Alex', 33, 2000)\n",
      "(3, 'Alex', 33, 2000)\n"
     ]
    }
   ],
   "source": [
    "# Q4. What is DQL? Explain SELECT with an example.\n",
    "\n",
    "# DQL - Data query language\n",
    "\n",
    "# SELECT - used to print the values of the tables available in the database. We can print the entire table or specific columns. \n",
    "\n",
    "\n",
    "import mysql.connector as sql\n",
    "mydb = mysql.connector.connect(\n",
    "  host=\"localhost\",\n",
    "  user=\"root\",\n",
    "  password=\"password\"\n",
    ")\n",
    "print(mydb)\n",
    "mycursor = mydb.cursor()\n",
    "mycursor.execute(\"insert into test2.test_table(c1,c2,c3,c4) values (3,'Alex', 33,2000)\")\n",
    "mydb.commit()\n",
    "mycursor.execute(\"Select * from test2.test_table\")\n",
    "for i in mycursor.fetchall():\n",
    "    print(i)\n",
    "\n",
    "mydb.close()"
   ]
  },
  {
   "cell_type": "code",
   "execution_count": 25,
   "id": "9d48f509",
   "metadata": {},
   "outputs": [],
   "source": [
    "# Q5. Explain Primary Key and Foreign Key.\n",
    "\n",
    "# Primary key - is the column  which is used unique identification of table in which values of all rows are unique. It consits of only not null vaules\n",
    "# Foreign Key - is the column in the database table which works as a link between the two tables. "
   ]
  },
  {
   "cell_type": "code",
   "execution_count": 34,
   "id": "82543128",
   "metadata": {},
   "outputs": [],
   "source": [
    "# Q6. Write a python code to connect MySQL to python. Explain the cursor() and execute() method.\n",
    "\n",
    "\n",
    "import mysql.connector as sql\n",
    "mydb = mysql.connector.connect(\n",
    "  host=\"localhost\",\n",
    "  user=\"root\",\n",
    "  password=\"password\"\n",
    ")\n",
    "\n",
    "# Execute - It is used to execute operations as the sql query in python. \n",
    "# Commit -  Commit is used to reflect the data executed by the query. "
   ]
  },
  {
   "cell_type": "code",
   "execution_count": null,
   "id": "12457208",
   "metadata": {},
   "outputs": [],
   "source": [
    "# Q7. Give the order of execution of SQL clauses in an SQL query.\n",
    "# from > where > group by > Having > select > order by"
   ]
  }
 ],
 "metadata": {
  "kernelspec": {
   "display_name": "Python 3 (ipykernel)",
   "language": "python",
   "name": "python3"
  },
  "language_info": {
   "codemirror_mode": {
    "name": "ipython",
    "version": 3
   },
   "file_extension": ".py",
   "mimetype": "text/x-python",
   "name": "python",
   "nbconvert_exporter": "python",
   "pygments_lexer": "ipython3",
   "version": "3.9.12"
  }
 },
 "nbformat": 4,
 "nbformat_minor": 5
}
