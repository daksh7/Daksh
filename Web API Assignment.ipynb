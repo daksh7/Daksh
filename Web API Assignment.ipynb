{
 "cells": [
  {
   "cell_type": "code",
   "execution_count": 1,
   "id": "ebead517",
   "metadata": {},
   "outputs": [],
   "source": [
    "# Q1. What is an API? Give an example, where an API is used in real life.\n",
    "\n",
    "# API is an application progamming interface which enables the communication between the software applications. \n",
    "\n",
    "# Example - To integrate Payment gateways with an website. To integrate third party application to the website or mobile apps. "
   ]
  },
  {
   "cell_type": "code",
   "execution_count": 2,
   "id": "12684115",
   "metadata": {},
   "outputs": [],
   "source": [
    "# Q2. Give advantages and disadvantages of using API.\n",
    "\n",
    "# Advantages\n",
    "## Scalability \n",
    "## Faster development of the applications \n",
    "## Improved user experience\n",
    "\n",
    "# Disadvantages\n",
    "## Security concerns\n",
    "## Dependability on third party applications. \n",
    "## Complexity"
   ]
  },
  {
   "cell_type": "code",
   "execution_count": 3,
   "id": "3dc27ac1",
   "metadata": {},
   "outputs": [],
   "source": [
    "# Q3. What is a Web API? Differentiate between API and Web API.\n",
    "\n",
    "# Wherever we are using https protocol to develop application that is called web API.\n",
    "# Web API is the subset of API.\n",
    "# Web API particulary refers to the API that is used to integrate web base applications, while API is not limited to only web based transactions.\n",
    "\n"
   ]
  },
  {
   "cell_type": "code",
   "execution_count": 4,
   "id": "6be74ea0",
   "metadata": {},
   "outputs": [],
   "source": [
    "# Q4. Explain REST and SOAP Architecture. Mention shortcomings of SOAP.\n",
    "\n",
    "# REST - Representational state transfer protocol. \n",
    "## it is simply used for web architecture or web transaction or web based API transaction. Where we use http protocol to transfer, update or  delete the data.  \n",
    "## In this we use Put, get, post, delete. It is always known for its simplicity,scalability, flexibility.\n",
    "\n",
    "# SOAP - Simple Object Accessible protocol. it follows xml based messaging protocol, everything will happen through XML.Soap architecture also uses https, SMTP protocol and TCP protocal.\n",
    "\n"
   ]
  },
  {
   "cell_type": "code",
   "execution_count": null,
   "id": "4d04e8ea",
   "metadata": {},
   "outputs": [],
   "source": [
    "# Q5. Differentiate between REST and SOAP.\n",
    "\n",
    "## Rest is easier to use than Soap.\n",
    "##Soap is more complex than REST. \n",
    "## Soap is more inclined towards lightweight protocol. \n",
    "## Soap is more secured than Rest\n",
    "## Rest is layered, stateless  and we can catch it as well, while all these things are by default implement in soap architecture. \n"
   ]
  }
 ],
 "metadata": {
  "kernelspec": {
   "display_name": "Python 3 (ipykernel)",
   "language": "python",
   "name": "python3"
  },
  "language_info": {
   "codemirror_mode": {
    "name": "ipython",
    "version": 3
   },
   "file_extension": ".py",
   "mimetype": "text/x-python",
   "name": "python",
   "nbconvert_exporter": "python",
   "pygments_lexer": "ipython3",
   "version": "3.9.12"
  }
 },
 "nbformat": 4,
 "nbformat_minor": 5
}
