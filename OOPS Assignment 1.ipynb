{
 "cells": [
  {
   "cell_type": "code",
   "execution_count": 9,
   "id": "01abeaba",
   "metadata": {},
   "outputs": [],
   "source": [
    "# Q1. Explain Class and Object with respect to Object-Oriented Programming. Give a suitable example.\n",
    "\n",
    "# class - is a blueprint for creating objects or its a classification of real world entity. \n",
    "\n",
    "# object - object is a variable of a class. \n",
    "\n",
    "\n",
    "class test:\n",
    "    \n",
    "    def class1(self):\n",
    "        print(\"this is my first class\")\n",
    "        "
   ]
  },
  {
   "cell_type": "code",
   "execution_count": 12,
   "id": "e543446e",
   "metadata": {},
   "outputs": [],
   "source": [
    "class_obj = test()"
   ]
  },
  {
   "cell_type": "code",
   "execution_count": 13,
   "id": "ed055482",
   "metadata": {},
   "outputs": [
    {
     "name": "stdout",
     "output_type": "stream",
     "text": [
      "this is my first class\n"
     ]
    }
   ],
   "source": [
    "class_obj.class1()"
   ]
  },
  {
   "cell_type": "code",
   "execution_count": 14,
   "id": "fa9a2375",
   "metadata": {},
   "outputs": [],
   "source": [
    "# Q2. Name the four pillars of OOPs.\n",
    "# Encapsulation\n",
    "# Polymorphism\n",
    "# inheritance\n",
    "# abstratcion"
   ]
  },
  {
   "cell_type": "code",
   "execution_count": 15,
   "id": "7ff2fa1d",
   "metadata": {},
   "outputs": [],
   "source": [
    "# Q3. Explain why the __init__() function is used. Give a suitable example.\n",
    "\n",
    "# __init__ function - is used to pass the data to the method in a class. \n",
    "\n",
    "class test1:\n",
    "    \n",
    "    def __init__(self,name,email):\n",
    "        self.name = name\n",
    "        self.email = email\n",
    "    \n",
    "    def details(self):\n",
    "        return self.name,self.email"
   ]
  },
  {
   "cell_type": "code",
   "execution_count": 17,
   "id": "e8884219",
   "metadata": {},
   "outputs": [],
   "source": [
    "test1_obj = test1(\"Daksh\",\"daksh@gmail.com\")"
   ]
  },
  {
   "cell_type": "code",
   "execution_count": 18,
   "id": "66c41df7",
   "metadata": {},
   "outputs": [
    {
     "data": {
      "text/plain": [
       "('Daksh', 'daksh@gmail.com')"
      ]
     },
     "execution_count": 18,
     "metadata": {},
     "output_type": "execute_result"
    }
   ],
   "source": [
    "test1_obj.details()"
   ]
  },
  {
   "cell_type": "code",
   "execution_count": 20,
   "id": "acc9e518",
   "metadata": {},
   "outputs": [],
   "source": [
    "# Q4. Why self is used in OOPs?\n",
    "\n",
    "# Self - is used to bind the method to the class, so that whenever we call the method from out of class. It will check that this method belongs to it."
   ]
  },
  {
   "cell_type": "code",
   "execution_count": 33,
   "id": "3e6afb98",
   "metadata": {},
   "outputs": [],
   "source": [
    "# Q5. What is inheritance? Give an example for each type of inheritance.\n",
    "\n",
    "# Inheritance means when the child class inherits the property of the parent class. With this we can use the methods from one class to another class without making the same methods again & again. \n",
    "\n",
    "\n",
    "# Multilevel inheritance\n",
    "class test2:\n",
    "    \n",
    "    def parent(self):\n",
    "        print(\"this is my parent class\")\n",
    "        \n",
    "class test3(test2):\n",
    "    \n",
    "    def child1(self):\n",
    "        print(\"this is first child class\")\n",
    "\n",
    "class test4(test3):\n",
    "    pass"
   ]
  },
  {
   "cell_type": "code",
   "execution_count": 34,
   "id": "432407ff",
   "metadata": {},
   "outputs": [],
   "source": [
    "test4_obj = test4()"
   ]
  },
  {
   "cell_type": "code",
   "execution_count": 42,
   "id": "d4dc7301",
   "metadata": {},
   "outputs": [
    {
     "name": "stdout",
     "output_type": "stream",
     "text": [
      "this is my parent class\n"
     ]
    }
   ],
   "source": [
    "test4_obj.parent()"
   ]
  },
  {
   "cell_type": "code",
   "execution_count": 43,
   "id": "54b9029c",
   "metadata": {},
   "outputs": [],
   "source": [
    "# multiple inheritance\n",
    "\n",
    "class one:\n",
    "    \n",
    "    def meth1(self):\n",
    "        print(\"this is my parent class 1\")\n",
    "\n",
    "class two:\n",
    "    \n",
    "    def meth2(self):\n",
    "        print(\"this is my parent class 2\")\n",
    "\n",
    "class three(one,two):\n",
    "    pass\n",
    "        "
   ]
  },
  {
   "cell_type": "code",
   "execution_count": 44,
   "id": "3ebcbbe7",
   "metadata": {},
   "outputs": [],
   "source": [
    "three_obj = three()"
   ]
  },
  {
   "cell_type": "code",
   "execution_count": 46,
   "id": "18d04243",
   "metadata": {},
   "outputs": [
    {
     "name": "stdout",
     "output_type": "stream",
     "text": [
      "this is my parent class 1\n"
     ]
    }
   ],
   "source": [
    "three_obj.meth1()"
   ]
  },
  {
   "cell_type": "code",
   "execution_count": 47,
   "id": "e2ead9cf",
   "metadata": {},
   "outputs": [
    {
     "name": "stdout",
     "output_type": "stream",
     "text": [
      "this is my parent class 2\n"
     ]
    }
   ],
   "source": [
    "three_obj.meth2()"
   ]
  },
  {
   "cell_type": "code",
   "execution_count": null,
   "id": "3b52de8b",
   "metadata": {},
   "outputs": [],
   "source": []
  }
 ],
 "metadata": {
  "kernelspec": {
   "display_name": "Python 3 (ipykernel)",
   "language": "python",
   "name": "python3"
  },
  "language_info": {
   "codemirror_mode": {
    "name": "ipython",
    "version": 3
   },
   "file_extension": ".py",
   "mimetype": "text/x-python",
   "name": "python",
   "nbconvert_exporter": "python",
   "pygments_lexer": "ipython3",
   "version": "3.9.12"
  }
 },
 "nbformat": 4,
 "nbformat_minor": 5
}
