{
 "cells": [
  {
   "cell_type": "code",
   "execution_count": 1,
   "id": "430680f6",
   "metadata": {},
   "outputs": [],
   "source": [
    "# Q1. What is an Exception in python? Write the difference between Exceptions and syntax errors.\n",
    "\n",
    "# Exception - While executing a program their is an logical error in the code then exceptions occur. Also, If their is an error in the code in try block, then exception block executes and if there is any code after that it will not stop. It handles all the error of the try block. \n",
    "\n",
    "# difference is in Exceptions error gets handled by the excecpt block and whatever code is written after that will still work. however, syntax error occur when the code syntacticall wrong and not correct according to the rules of python.  When we will try to execute it the code will show error and program will get terminated. \n"
   ]
  },
  {
   "cell_type": "code",
   "execution_count": 4,
   "id": "2f29b21f",
   "metadata": {},
   "outputs": [
    {
     "ename": "ZeroDivisionError",
     "evalue": "division by zero",
     "output_type": "error",
     "traceback": [
      "\u001b[1;31m---------------------------------------------------------------------------\u001b[0m",
      "\u001b[1;31mZeroDivisionError\u001b[0m                         Traceback (most recent call last)",
      "Input \u001b[1;32mIn [4]\u001b[0m, in \u001b[0;36m<cell line: 5>\u001b[1;34m()\u001b[0m\n\u001b[0;32m      1\u001b[0m \u001b[38;5;66;03m# Q2. What happens when an exception is not handled? Explain with an example\u001b[39;00m\n\u001b[0;32m      2\u001b[0m \n\u001b[0;32m      3\u001b[0m \u001b[38;5;66;03m# When an exception is not handled the program will stop, because it does not have any code to handle that exception. \u001b[39;00m\n\u001b[1;32m----> 5\u001b[0m \u001b[38;5;241;43m10\u001b[39;49m\u001b[38;5;241;43m/\u001b[39;49m\u001b[38;5;241;43m0\u001b[39;49m\n\u001b[0;32m      6\u001b[0m \u001b[38;5;241m10\u001b[39m\u001b[38;5;241m+\u001b[39m\u001b[38;5;241m11\u001b[39m\n",
      "\u001b[1;31mZeroDivisionError\u001b[0m: division by zero"
     ]
    }
   ],
   "source": [
    "# Q2. What happens when an exception is not handled? Explain with an example\n",
    "\n",
    "# When an exception is not handled the program will stop, because it does not have any code to handle that exception. \n",
    "\n",
    "10/0\n",
    "10+11 \n",
    "# In this because of error in the first line of code the whole program got stopped. This error can be handled by Exception. "
   ]
  },
  {
   "cell_type": "code",
   "execution_count": 19,
   "id": "f1775d66",
   "metadata": {},
   "outputs": [],
   "source": [
    "import logging\n",
    "\n",
    "logging.basicConfig(filename=\"exception.log\", level=logging.INFO)\n",
    "\n",
    "try:\n",
    "    logging.info(\"We are trying to show the concept of exception handling\")\n",
    "    a = 10/0\n",
    "\n",
    "except ZeroDivisionError as e:\n",
    "    logging.info(\"We are printing the error that got handled by except block {}\".format(e))\n",
    "    b = 10+11\n",
    "    logging.info(\"After handling the exception we are exceuting other lines of code {}\".format(b))\n"
   ]
  },
  {
   "cell_type": "code",
   "execution_count": 28,
   "id": "050c3373",
   "metadata": {},
   "outputs": [
    {
     "name": "stdout",
     "output_type": "stream",
     "text": [
      "[Errno 2] No such file or directory: 'file1.txt'\n"
     ]
    }
   ],
   "source": [
    "# Q3. Which Python statements are used to catch and handle exceptions? Explain with an example\n",
    "\n",
    "# try and except blocks statements are used to catch and handle exceptions. \n",
    "\n",
    "try:\n",
    "    file = open(\"file1.txt\",\"r\") \n",
    "except FileNotFoundError as e:\n",
    "    print(e)"
   ]
  },
  {
   "cell_type": "code",
   "execution_count": 36,
   "id": "5e14a5f2",
   "metadata": {},
   "outputs": [],
   "source": [
    "# Q4. Explain with an example:\n",
    "\n",
    "# a) try and else - If there is a code which we are not sure of whether it will work or not,we will put under ty block. so that if there is an exception an except block can handle it. While, else block will only execute when try block gets successfully executed. \n",
    "\n",
    "try:\n",
    "    f=open(\"file.txt\",\"w\")\n",
    "    f.write(\"This is my second file\\n\")\n",
    "except Exception as e:\n",
    "    print(e)\n",
    "else:\n",
    "    f.write(\"this is my second line in this file\\n\")\n",
    "    f.close()"
   ]
  },
  {
   "cell_type": "code",
   "execution_count": 37,
   "id": "2a2bf31a",
   "metadata": {},
   "outputs": [
    {
     "name": "stdout",
     "output_type": "stream",
     "text": [
      "We have completed our example\n"
     ]
    }
   ],
   "source": [
    "# b)finally - finally will get executed irrespective of whether their an error in try or their is an excepion or not. It will always get executed. \n",
    "\n",
    "try:\n",
    "    f=open(\"file.txt\",\"w\")\n",
    "    f.write(\"This is my second file\\n\")\n",
    "except Exception as e:\n",
    "    print(e)\n",
    "else:\n",
    "    f.write(\"this is my second line in this file\\n\")\n",
    "    f.close()\n",
    "finally:\n",
    "    print(\"We have completed our example\")"
   ]
  },
  {
   "cell_type": "code",
   "execution_count": 39,
   "id": "8264bc6e",
   "metadata": {},
   "outputs": [
    {
     "ename": "ValueError",
     "evalue": "Only int value is allowed",
     "output_type": "error",
     "traceback": [
      "\u001b[1;31m---------------------------------------------------------------------------\u001b[0m",
      "\u001b[1;31mValueError\u001b[0m                                Traceback (most recent call last)",
      "Input \u001b[1;32mIn [39]\u001b[0m, in \u001b[0;36m<cell line: 5>\u001b[1;34m()\u001b[0m\n\u001b[0;32m      3\u001b[0m x \u001b[38;5;241m=\u001b[39m \u001b[38;5;124m\"\u001b[39m\u001b[38;5;124mDaksh\u001b[39m\u001b[38;5;124m\"\u001b[39m\n\u001b[0;32m      5\u001b[0m \u001b[38;5;28;01mif\u001b[39;00m \u001b[38;5;28mtype\u001b[39m(x) \u001b[38;5;241m!=\u001b[39m \u001b[38;5;28mint\u001b[39m:\n\u001b[1;32m----> 6\u001b[0m     \u001b[38;5;28;01mraise\u001b[39;00m \u001b[38;5;167;01mValueError\u001b[39;00m(\u001b[38;5;124m\"\u001b[39m\u001b[38;5;124mOnly int value is allowed\u001b[39m\u001b[38;5;124m\"\u001b[39m)\n",
      "\u001b[1;31mValueError\u001b[0m: Only int value is allowed"
     ]
    }
   ],
   "source": [
    "# c) raise - raise is used when you want raise an exception particularly in regards to your program. \n",
    "\n",
    "x = \"Daksh\"\n",
    "\n",
    "if type(x) != int:\n",
    "    raise ValueError(\"Only int value is allowed\")\n"
   ]
  },
  {
   "cell_type": "code",
   "execution_count": 43,
   "id": "d3f05956",
   "metadata": {},
   "outputs": [],
   "source": [
    "# Q5. What are Custom Exceptions in python? Why do we need Custom Exceptions? Explain with an example.\n",
    "\n",
    "# The custom exceptions are the exceptions which are meaningful to the logic of our program. We need these to better understand the error related to our program. \n",
    "\n",
    "\n",
    "class Myinputerror(Exception):\n",
    "    def __init__(self, msg):\n",
    "        self.msg = msg\n",
    "\n",
    "def Myinput(id):\n",
    "    if type(id)==int():\n",
    "        raise Myinputerror(\"input is type integer\")\n",
    "    elif type(id) == float:\n",
    "        raise Myinputerror(\"Input is type float\")\n",
    "    else:\n",
    "        print(\"Input is a type string\")\n"
   ]
  },
  {
   "cell_type": "code",
   "execution_count": 45,
   "id": "b10adc93",
   "metadata": {},
   "outputs": [
    {
     "name": "stdout",
     "output_type": "stream",
     "text": [
      "Enter the value: 11\n",
      "Input is a type string\n"
     ]
    }
   ],
   "source": [
    "try:\n",
    "    id = input(\"Enter the value: \")\n",
    "    Myinput(id)\n",
    "except Myinputerror as e:\n",
    "    print(e)"
   ]
  },
  {
   "cell_type": "code",
   "execution_count": 51,
   "id": "a01f549a",
   "metadata": {},
   "outputs": [
    {
     "name": "stdout",
     "output_type": "stream",
     "text": [
      "enter first value: 11\n",
      "Enter second value: 0\n"
     ]
    }
   ],
   "source": [
    "# Q6. Create a custom exception class. Use this ,class to handle an exception.\n",
    "\n",
    "import logging\n",
    "\n",
    "logging.basicConfig(filename= \"custom.log\", level=logging.INFO)\n",
    "\n",
    "class Myvaluerror(Exception):\n",
    "    logging.info(\"We are trying to create a custom exception class\")\n",
    "    def __init__(self, msg):\n",
    "        self.msg = msg\n",
    "\n",
    "\n",
    "def Myvalue(n,m):\n",
    "    logging.info(\"We have built a function to divide two numbers\")\n",
    "    if  m ==0:\n",
    "        logging.info(\"we are just being extra cautious to check whether user has given 2nd value as 0\")\n",
    "        raise Myvaluerror(\"a number cannot be divisible by 0\")\n",
    "    else:\n",
    "        x = n/m\n",
    "    return x\n",
    "\n",
    "try:\n",
    "    logging.info(\"we are putting our code in try block\")\n",
    "    n = int(input(\"enter first value: \"))\n",
    "    m = int(input(\"Enter second value: \"))\n",
    "    final = Myvalue(n,m)\n",
    "    logging.info(\"Final value: {}\".format(final))\n",
    "except Myvaluerror as e:\n",
    "    logging.info(\"Final value: {}\".format(e))"
   ]
  },
  {
   "cell_type": "code",
   "execution_count": null,
   "id": "a1726df2",
   "metadata": {},
   "outputs": [],
   "source": []
  }
 ],
 "metadata": {
  "kernelspec": {
   "display_name": "Python 3 (ipykernel)",
   "language": "python",
   "name": "python3"
  },
  "language_info": {
   "codemirror_mode": {
    "name": "ipython",
    "version": 3
   },
   "file_extension": ".py",
   "mimetype": "text/x-python",
   "name": "python",
   "nbconvert_exporter": "python",
   "pygments_lexer": "ipython3",
   "version": "3.9.12"
  }
 },
 "nbformat": 4,
 "nbformat_minor": 5
}
